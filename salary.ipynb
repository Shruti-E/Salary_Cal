{
 "cells": [
  {
   "cell_type": "code",
   "execution_count": 6,
   "metadata": {},
   "outputs": [
    {
     "name": "stdout",
     "output_type": "stream",
     "text": [
      "WELCOME TO CARGO EXPRESS!!!!\n"
     ]
    },
    {
     "name": "stdin",
     "output_type": "stream",
     "text": [
      "Enter the type of employee(PERMANENT/TEMPORARY):  PERMANENT\n",
      "Enter the grade(A1/A2/A3):  A2\n"
     ]
    },
    {
     "name": "stdout",
     "output_type": "stream",
     "text": [
      "The salary of employee is:  5500.0\n"
     ]
    }
   ],
   "source": [
    "print(\"WELCOME TO CARGO EXPRESS!!!!\")\n",
    "type=input(\"Enter the type of employee(PERMANENT/TEMPORARY): \")\n",
    "if (type==\"PERMANENT\"):\n",
    "    grade=input(\"Enter the grade(A1/A2/A3): \")\n",
    "    if (grade==\"A1\"):\n",
    "        sal=1.05*5000\n",
    "    elif (grade==\"A2\"):\n",
    "        sal=1.1*5000\n",
    "    elif (grade==\"A3\"):\n",
    "        sal=1.15*5000\n",
    "elif (type==\"TEMPORARY\"):\n",
    "    grade=input(\"Enter the grade(A1/A2/A3): \")\n",
    "    if (grade==\"A1\"):\n",
    "        sal=1.05*3000\n",
    "    elif (grade==\"A2\"):\n",
    "        sal=1.1*3000\n",
    "    elif (grade==\"A3\"):\n",
    "        sal=1.15*3000\n",
    "else:\n",
    "    print(\"INVALID INPUT!!!!\")\n",
    "sal=round(sal,2)\n",
    "print(\"The salary of employee is: \",sal)"
   ]
  }
 ],
 "metadata": {
  "kernelspec": {
   "display_name": "Python 3",
   "language": "python",
   "name": "python3"
  },
  "language_info": {
   "codemirror_mode": {
    "name": "ipython",
    "version": 3
   },
   "file_extension": ".py",
   "mimetype": "text/x-python",
   "name": "python",
   "nbconvert_exporter": "python",
   "pygments_lexer": "ipython3",
   "version": "3.6.7"
  }
 },
 "nbformat": 4,
 "nbformat_minor": 4
}
